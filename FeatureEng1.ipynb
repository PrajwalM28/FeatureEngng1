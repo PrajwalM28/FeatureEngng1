{
 "cells": [
  {
   "cell_type": "markdown",
   "id": "6dc64ceb-37ce-4ae1-8f44-f69bf6162ed9",
   "metadata": {},
   "source": [
    "# Q1.\n",
    "### What are missing values in a dataset? Why is it essential to handle missing values? Name some algorithms that are not affected by missing values.\n",
    "\n"
   ]
  },
  {
   "cell_type": "markdown",
   "id": "cca6f078-0a46-463d-b7d8-ecf181387abb",
   "metadata": {},
   "source": [
    "- Missing values in a dataset refer to the absence of a particular value for a variable in a specific observation.\n",
    "- Handling missing values is crucial because they can lead to biased or inaccurate results in data analysis and machine learning models. \n",
    "\n",
    "- Decision Trees\n",
    "- Random Forests\n",
    "- Naive Bayes"
   ]
  },
  {
   "cell_type": "markdown",
   "id": "37d1b5c4-3347-4611-9fcc-ca56d41b1fa0",
   "metadata": {},
   "source": [
    "# Q2.\n",
    "### List down techniques used to handle missing data. Give an example of each with Python code."
   ]
  },
  {
   "cell_type": "markdown",
   "id": "9e06423a-1ab7-4bb5-970b-6124726c4021",
   "metadata": {},
   "source": [
    "- Dropping Missing Values\n",
    "\n",
    "\n",
    "import pandas as pd\n",
    "df.dropna(inplace = True)\n",
    "\n",
    "- Imputation with Mean\n",
    "\n",
    "\n",
    "df['column_name'].fillna(df['column_name'].mean(),inplace=True)\n",
    "\n",
    "- Interpolation\n",
    "\n",
    "\n",
    "df['x'].interpolate(method='linear',inplace=True)"
   ]
  },
  {
   "cell_type": "markdown",
   "id": "805b5387-1810-49f0-b9f9-ac95401642d2",
   "metadata": {},
   "source": [
    "# Q3.\n",
    "### Explain the imbalanced data. What will happen if imbalanced data is not handled?"
   ]
  },
  {
   "cell_type": "markdown",
   "id": "06279c2d-8e50-4d82-84e2-8b7582401b77",
   "metadata": {},
   "source": [
    "- Imbalanced data refers to a situation where the distribution of classes in the target variable is not uniform.\n",
    "\n",
    "- If imbalanced data is not handled, machine learning models may become biased towards the majority class, leading to poor performance on the minority class."
   ]
  },
  {
   "cell_type": "markdown",
   "id": "984fd954-6784-4023-b382-f8637477a603",
   "metadata": {},
   "source": [
    "# Q4.\n",
    "### What are Up-sampling and Down-sampling? Explain with an example when up-sampling and down-sampling are required."
   ]
  },
  {
   "cell_type": "markdown",
   "id": "5acccc22-a1e5-47a2-aeeb-7b2658314059",
   "metadata": {},
   "source": [
    "- Up-sampling involves increasing the number of instances in the minority class, while down-sampling involves reducing the number of instances in the majority class.\n",
    "\n",
    "Up-sampling Example:\n",
    "\n",
    "- Scenario: Fraud detection where instances of fraud are rare.\n",
    "- Action: Increase the number of instances of fraud in the dataset to balance the classes.\n",
    "\n",
    "Down-sampling Example:\n",
    "\n",
    "- Scenario: Customer churn prediction where most customers do not churn.\n",
    "- Action: Reduce the number of instances of non-churn to balance the classes."
   ]
  },
  {
   "cell_type": "markdown",
   "id": "74bd4e42-6d22-4444-b610-ef4337d6df2d",
   "metadata": {},
   "source": [
    "# Q5.\n",
    "### What is data Augmentation? Explain SMOTE."
   ]
  },
  {
   "cell_type": "markdown",
   "id": "582e0ed4-2c58-428b-bf52-6385c06fd26d",
   "metadata": {},
   "source": [
    "- Data augmentation involves artificially increasing the size of a dataset by applying various transformations to existing data points, such as rotation, scaling, or flipping.\n",
    "\n",
    "- SMOTE (Synthetic Minority Over-sampling Technique) is a specific technique for handling imbalanced datasets by generating synthetic examples of the minority class."
   ]
  },
  {
   "cell_type": "markdown",
   "id": "e9fa3650-5677-46c5-8f60-3dc0ea74d82a",
   "metadata": {},
   "source": [
    "# Q6.\n",
    "### What are outliers in a dataset? Why is it essential to handle outliers?"
   ]
  },
  {
   "cell_type": "markdown",
   "id": "4cfe128f-449e-4fe3-946b-4c4710a72890",
   "metadata": {},
   "source": [
    "- Outliers are data points that significantly differ from the rest of the data. Handling outliers is essential because they can distort statistical analyses, affect model performance, and lead to inaccurate conclusions. "
   ]
  },
  {
   "cell_type": "markdown",
   "id": "d9d9d323-a61b-4283-a150-43333c65ef9b",
   "metadata": {},
   "source": [
    "# Q7.\n",
    "###  You are working on a project that requires analyzing customer data. What are some techniques you can use to handle the missing data in your analysis?\n",
    "\n"
   ]
  },
  {
   "cell_type": "markdown",
   "id": "bc23bfe2-916f-47d1-b09d-d5ba24456342",
   "metadata": {},
   "source": [
    "- Dropping rows with missing values\n",
    "- Imputing missing values with mean , median or mode.\n",
    "- Interpolating."
   ]
  },
  {
   "cell_type": "markdown",
   "id": "6e42dfdd-c4aa-4e2c-8a0f-c9972a107d33",
   "metadata": {},
   "source": [
    "# Q8.\n",
    "###  You are working with a large dataset and find that a small percentage of the data is missing. What are some strategies you can use to determine if the missing data is missing at random or if there is a pattern to the missing data?"
   ]
  },
  {
   "cell_type": "markdown",
   "id": "a7d93e24-fac1-411d-b0c8-0a74affffa44",
   "metadata": {},
   "source": [
    "- Missing Data Visualization \n",
    "- Correlation Analysis\n",
    "- Statistical Tests."
   ]
  },
  {
   "cell_type": "markdown",
   "id": "577bc9b3-8d60-4d60-8252-4ac02e0cec57",
   "metadata": {},
   "source": [
    "# Q9.\n",
    "### Suppose you are working on a medical diagnosis project and find that the majority of patients in the dataset do not have the condition of interest, while a small percentage do. What are some strategies you can use to evaluate the performance of your machine learning model on this imbalanced dataset?"
   ]
  },
  {
   "cell_type": "markdown",
   "id": "a039a39e-3e61-4dcd-8116-1357275a6d37",
   "metadata": {},
   "source": [
    "- Precision and Recall\n",
    "- F1 Score: The F1 score balances precision and recall.\n",
    "- Confusion Matrix Analysis: Examine the confusion matrix to understand false positives and false negatives."
   ]
  },
  {
   "cell_type": "markdown",
   "id": "e4e24cd4-1b63-461f-b01b-362e1633cf63",
   "metadata": {},
   "source": [
    "# Q10.\n",
    "### When attempting to estimate customer satisfaction for a project, you discover that the dataset is unbalanced, with the bulk of customers reporting being satisfied. What methods can you employ to balance the dataset and down-sample the majority class?"
   ]
  },
  {
   "cell_type": "markdown",
   "id": "12d3b27a-d5ba-42d9-ba93-63ab0ae8f89c",
   "metadata": {},
   "source": [
    "- Random Under-Sampling\n",
    "- Cluster-Based Sampling\n",
    "- Tomek Links"
   ]
  },
  {
   "cell_type": "markdown",
   "id": "bc0deaba-8b9a-433c-b066-7d006fcf9414",
   "metadata": {},
   "source": [
    "# Q11.\n",
    "###  You discover that the dataset is unbalanced with a low percentage of occurrences while working on a project that requires you to estimate the occurrence of a rare event. What methods can you employ to balance the dataset and up-sample the minority class?"
   ]
  },
  {
   "cell_type": "markdown",
   "id": "889afa0a-5a7c-4240-9c65-885a71f55476",
   "metadata": {},
   "source": [
    "- Random Over-Sampling\n",
    "- SMOTE : Generate synthetic instances for the minority class."
   ]
  }
 ],
 "metadata": {
  "kernelspec": {
   "display_name": "Python 3 (ipykernel)",
   "language": "python",
   "name": "python3"
  },
  "language_info": {
   "codemirror_mode": {
    "name": "ipython",
    "version": 3
   },
   "file_extension": ".py",
   "mimetype": "text/x-python",
   "name": "python",
   "nbconvert_exporter": "python",
   "pygments_lexer": "ipython3",
   "version": "3.10.8"
  }
 },
 "nbformat": 4,
 "nbformat_minor": 5
}
